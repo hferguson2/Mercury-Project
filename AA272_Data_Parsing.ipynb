{
  "nbformat": 4,
  "nbformat_minor": 0,
  "metadata": {
    "colab": {
      "provenance": []
    },
    "kernelspec": {
      "name": "python3",
      "display_name": "Python 3"
    },
    "language_info": {
      "name": "python"
    }
  },
  "cells": [
    {
      "cell_type": "code",
      "source": [
        "!pip install gnss_lib_py\n",
        "import numpy as np\n",
        "import gnss_lib_py as glp\n",
        "import matplotlib.pyplot as plt"
      ],
      "metadata": {
        "id": "odDrIk1tXX0E"
      },
      "execution_count": null,
      "outputs": []
    },
    {
      "cell_type": "code",
      "source": [
        "file_rinex = \"/content/gnss_log_2024_11_21_12_57_35.24o\"\n",
        "file_nmea = \"/content/gnss_log_2024_11_21_12_57_35.nmea\"\n",
        "file_txt = \"/content/gnss_log_2024_11_21_12_57_35.txt\""
      ],
      "metadata": {
        "id": "6oX0GUg-XdTm"
      },
      "execution_count": null,
      "outputs": []
    },
    {
      "cell_type": "code",
      "execution_count": null,
      "metadata": {
        "id": "L2W5Hk3vXU3Q"
      },
      "outputs": [],
      "source": [
        "fix_data = glp.AndroidRawFixes(file_txt)"
      ]
    },
    {
      "cell_type": "code",
      "source": [
        "from datetime import datetime\n",
        "from pytz import timezone\n",
        "\n",
        "# parameters to change #<----- change this!!!\n",
        "textfile_date = datetime(2024, 11, 21, 12, 57, 35, tzinfo=timezone('America/Los_Angeles'))\n",
        "offset_ms = 392.32 * 1000   # additional offset #400 worked (ish)\n",
        "use_precise = True      # use precise epehmeris (only available 1 week after meas)\n",
        "\n",
        "# load raw data\n",
        "def process_data(offset_ms, use_precise=False):\n",
        "    raw_data = glp.AndroidRawGnss(input_path=file_txt,\n",
        "                                  filter_measurements=True,\n",
        "                                  measurement_filters={\"sv_time_uncertainty\" : 500.},\n",
        "                                  verbose=True)\n",
        "\n",
        "    # first correct to the roughly correct time\n",
        "    gps_millisec_logged = raw_data[\"gps_millis\"][0]\n",
        "    datetime_logged = glp.gps_millis_to_datetime(raw_data[\"gps_millis\"])[0]\n",
        "    true_gpsmillisec = glp.datetime_to_gps_millis(textfile_date)\n",
        "\n",
        "    diff_gps_millisec = gps_millisec_logged - true_gpsmillisec\n",
        "    raw_data[\"gps_millis\"] = raw_data[\"gps_millis\"] - diff_gps_millisec   # correct to the log file date\n",
        "\n",
        "    print(\"datetime (logged):\", datetime_logged)\n",
        "    print(\"gps_millis (logged): {0:4.2e}\".format(gps_millisec_logged))\n",
        "    print(\"gps_millis (log file time): {0:4.2e}\".format(true_gpsmillisec))\n",
        "\n",
        "    # additional offset to the gps millisec\n",
        "    offset_data = raw_data.copy()\n",
        "    offset_data[\"gps_millis\"] = raw_data[\"gps_millis\"] + offset_ms\n",
        "\n",
        "    # extract gps states\n",
        "    if use_precise:\n",
        "      derived_sv_states = glp.add_sv_states(offset_data, source=\"precise\", verbose=False)\n",
        "      print(derived_sv_states)\n",
        "    else:\n",
        "      derived_gps = offset_data.where(\"gnss_id\", \"gps\")\n",
        "      sv_state_rows = ['x_sv_m', 'y_sv_m', 'z_sv_m', 'vx_sv_mps', 'vy_sv_mps', 'vz_sv_mps', 'b_sv_m']\n",
        "      derived_sv_states = glp.add_sv_states_rinex(derived_gps)\n",
        "\n",
        "    # correct satellite clock bias\n",
        "    full_states = derived_sv_states.copy()\n",
        "    full_states[\"corr_pr_m\"] = full_states[\"raw_pr_m\"] \\\n",
        "                            + full_states['b_sv_m']\n",
        "\n",
        "    # remove all data with raw_pr_m > 1e8\n",
        "    full_states = full_states.where(\"raw_pr_m\", 3e7, \"leq\")\n",
        "    glp.plot_metric_by_constellation(full_states, \"gps_millis\", \"raw_pr_m\")\n",
        "\n",
        "\n",
        "    return wls_estimate, full_states\n"
      ],
      "metadata": {
        "id": "KDOfW-PkXZEP"
      },
      "execution_count": null,
      "outputs": []
    },
    {
      "cell_type": "code",
      "source": [
        "full_states = process_data(offset_ms, use_precise)[1]"
      ],
      "metadata": {
        "id": "GXTj2a4nXmzK"
      },
      "execution_count": null,
      "outputs": []
    },
    {
      "cell_type": "code",
      "source": [
        "import pandas as pd\n",
        "if isinstance(full_states, dict):\n",
        "    df = pd.DataFrame(full_states)\n",
        "else:\n",
        "    df = full_states\n",
        "\n",
        "# Save the DataFrame to a CSV file\n",
        "csv_file_path = \"full_states.csv\"  # Define the output file name\n",
        "df.to_csv(csv_file_path, index=False)\n",
        "\n",
        "print(f\"Data has been saved to {csv_file_path}\")"
      ],
      "metadata": {
        "id": "cVzg_1ErX0_h"
      },
      "execution_count": null,
      "outputs": []
    }
  ]
}